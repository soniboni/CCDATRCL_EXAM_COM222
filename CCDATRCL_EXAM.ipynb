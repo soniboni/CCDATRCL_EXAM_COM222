{
  "cells": [
    {
      "cell_type": "markdown",
      "metadata": {
        "id": "view-in-github",
        "colab_type": "text"
      },
      "source": [
        "<a href=\"https://colab.research.google.com/github/soniboni/CCDATRCL_EXAM_COM222/blob/main/CCDATRCL_EXAM.ipynb\" target=\"_parent\"><img src=\"https://colab.research.google.com/assets/colab-badge.svg\" alt=\"Open In Colab\"/></a>"
      ]
    },
    {
      "cell_type": "markdown",
      "metadata": {
        "id": "yaz2B0KGFehP"
      },
      "source": [
        "# Midterm Exam 💛💙"
      ]
    },
    {
      "cell_type": "markdown",
      "metadata": {
        "id": "_DmK1ONEFehQ"
      },
      "source": [
        "**Instructions** ❗️❗️\n",
        "\n",
        "❌ Do not remove or modify the notebook **sections**, **subsections**, **exam questions** or **any text** in this python notebook\n",
        "\n",
        "✔️ Put your answer in the designated cells below each question"
      ]
    },
    {
      "cell_type": "markdown",
      "metadata": {
        "id": "TMCAXKWCFehR"
      },
      "source": [
        "## Search"
      ]
    },
    {
      "cell_type": "code",
      "execution_count": null,
      "metadata": {
        "id": "Fy8nEBRRFehR"
      },
      "outputs": [],
      "source": [
        "def linearSearch(my_list, number):\n",
        "\n",
        "    index = 0\n",
        "\n",
        "    for i in my_list:\n",
        "\n",
        "        if my_list[index] == number:\n",
        "            return index\n",
        "\n",
        "        index = index + 1\n",
        "\n",
        "    return -1"
      ]
    },
    {
      "cell_type": "markdown",
      "metadata": {
        "id": "AjAevpueFehS"
      },
      "source": [
        "1. Using **linear search**, write a `findLargestIncrease()` function to find the largest increase in value between two adjacent numbers in your student number `(10 points)`\n",
        "\n",
        "    **Example:**\n",
        "\n",
        "    student_number = [2,0,2,2,6,2,5,1,9,3]\n",
        "\n",
        "    **Expected Output:**\n",
        "\n",
        "    findLargestIncrease(student_number)\n",
        "\n",
        "    Output: Between 1 and 9\n",
        "\n",
        "    **Explanation:**\n",
        "\n",
        "    From this student_number, the largest increase happened from number 1 to number 9"
      ]
    },
    {
      "cell_type": "code",
      "execution_count": null,
      "metadata": {
        "colab": {
          "base_uri": "https://localhost:8080/"
        },
        "id": "JE8nEfyJFehS",
        "outputId": "37a715d8-0393-46e0-fcb4-e73c4d3951b6"
      },
      "outputs": [
        {
          "name": "stdout",
          "output_type": "stream",
          "text": [
            "findLargestIncrease(student_number)\n",
            "Output: Between 1 and 9\n"
          ]
        }
      ],
      "source": [
        "def findLargestIncrease(student_number):\n",
        "    largest_increase = 0\n",
        "    start_index = 0\n",
        "    end_index = 0\n",
        "\n",
        "    for i in range(len(student_number) - 1):\n",
        "        current_increase = student_number[i + 1] - student_number[i]\n",
        "\n",
        "        if current_increase > largest_increase:\n",
        "            largest_increase = current_increase\n",
        "            start_index = linearSearch(student_number, student_number[i])\n",
        "            end_index = linearSearch(student_number, student_number[i + 1])\n",
        "\n",
        "    if largest_increase == 0:\n",
        "        return \"No increase found in the list.\"\n",
        "\n",
        "    return f\"Between {student_number[start_index]} and {student_number[end_index]}\"\n",
        "\n",
        "student_number = [2, 0, 2, 2, 6, 2, 5, 1, 9, 3]\n",
        "result = findLargestIncrease(student_number)\n",
        "print(\"findLargestIncrease(student_number)\")\n",
        "print(\"Output:\", result)"
      ]
    },
    {
      "cell_type": "markdown",
      "metadata": {
        "id": "nMyr1fNyFehS"
      },
      "source": [
        "2. Using **linear search**, write a `findLargestDecrease()` function to find the largest decrease in value between two adjacent numbers in your student number `(10 points)`\n",
        "\n",
        "    **Example:**\n",
        "\n",
        "    student_number = [2,0,2,2,6,2,5,1,9,3]\n",
        "\n",
        "    **Expected Output:**\n",
        "\n",
        "    findLargestDecrease(student_number)\n",
        "\n",
        "    Output: Between 9 and 3\n",
        "\n",
        "    **Explanation:**\n",
        "\n",
        "    From this student_number, the largest decrease happened from number 9 to number 3"
      ]
    },
    {
      "cell_type": "code",
      "execution_count": null,
      "metadata": {
        "colab": {
          "base_uri": "https://localhost:8080/"
        },
        "id": "bfMfQVbVFehS",
        "outputId": "d88d2a94-a2b6-4d8f-a4fc-4fda13a837cc"
      },
      "outputs": [
        {
          "name": "stdout",
          "output_type": "stream",
          "text": [
            "findLargestDecrease(student_number)\n",
            "Output: Between 9 and 3\n"
          ]
        }
      ],
      "source": [
        "def findLargestDecrease(student_number):\n",
        "    largest_decrease = 0\n",
        "    start_index = 0\n",
        "    end_index = 0\n",
        "\n",
        "    for i in range(len(student_number) - 1):\n",
        "        current_decrease = student_number[i] - student_number[i + 1]\n",
        "\n",
        "        if current_decrease > largest_decrease:\n",
        "            largest_decrease = current_decrease\n",
        "            start_index = linearSearch(student_number, student_number[i])\n",
        "            end_index = linearSearch(student_number, student_number[i + 1])\n",
        "\n",
        "    if largest_decrease == 0:\n",
        "        return \"No decrease found in the list.\"\n",
        "\n",
        "    return f\"Between {student_number[start_index]} and {student_number[end_index]}\"\n",
        "\n",
        "student_number = [2, 0, 2, 2, 6, 2, 5, 1, 9, 3]\n",
        "result = findLargestDecrease(student_number)\n",
        "print(\"findLargestDecrease(student_number)\")\n",
        "print(\"Output:\", result)"
      ]
    },
    {
      "cell_type": "markdown",
      "metadata": {
        "id": "NtKSQn9QFehS"
      },
      "source": [
        "## Linked List"
      ]
    },
    {
      "cell_type": "code",
      "execution_count": 69,
      "metadata": {
        "id": "0HP5zyJcFehS"
      },
      "outputs": [],
      "source": [
        "class Node:\n",
        "\n",
        "    def __init__(self, data):\n",
        "        self.data = data\n",
        "        self.next = None  # null"
      ]
    },
    {
      "cell_type": "code",
      "execution_count": 70,
      "metadata": {
        "id": "A-8Uefe7FehS"
      },
      "outputs": [],
      "source": [
        "class LinkedList:\n",
        "\n",
        "    def __init__(self):\n",
        "        self.head = None\n",
        "\n",
        "    def traverse(self, node):\n",
        "        while node:\n",
        "            print(node.data, end=\" -> \")\n",
        "            node = node.next"
      ]
    },
    {
      "cell_type": "markdown",
      "metadata": {
        "id": "uPgIJJuSFehT"
      },
      "source": [
        "**Instructions** ❗️❗️\n",
        "\n",
        "Use the pre-defined linked list class/functions to create a linked list"
      ]
    },
    {
      "cell_type": "markdown",
      "metadata": {
        "id": "WIwpW7Q2FehT"
      },
      "source": [
        "1. Create a Singly linked list named **num_list** and print all of its elements. `(5 points)`\n",
        "\n",
        "- **num_list** should contain all digits of your student number.\n",
        "\n",
        "    **Expected Output:**\n",
        "\n",
        "    print(num_list)\n",
        "\n",
        "    [2, 0, 2, 2, 1, 2, 3, 4, 5, 6]"
      ]
    },
    {
      "cell_type": "code",
      "execution_count": 215,
      "metadata": {
        "colab": {
          "base_uri": "https://localhost:8080/"
        },
        "id": "Lihv0JPiFehT",
        "outputId": "4ce61108-64bb-4c4d-dd5b-d7d5c310dbb5"
      },
      "outputs": [
        {
          "output_type": "stream",
          "name": "stdout",
          "text": [
            "num_list:\n",
            "2 -> 0 -> 2 -> 2 -> 1 -> 0 -> 7 -> 3 -> 4 -> 9 -> "
          ]
        }
      ],
      "source": [
        "num_list = LinkedList()\n",
        "student_number = [2, 0, 2, 2, 1, 0, 7, 3, 4, 9]\n",
        "\n",
        "for digit in student_number:\n",
        "    new_node = Node(digit)\n",
        "    if num_list.head is None:\n",
        "        num_list.head = new_node\n",
        "    else:\n",
        "        current_node = num_list.head\n",
        "        while current_node.next:\n",
        "            current_node = current_node.next\n",
        "        current_node.next = new_node\n",
        "\n",
        "# Print the elements of num_list\n",
        "print(\"num_list:\")\n",
        "num_list.traverse(num_list.head)"
      ]
    },
    {
      "cell_type": "markdown",
      "metadata": {
        "id": "dqA2UYrYFehT"
      },
      "source": [
        "2. Write a `hasPrime()` function to test whether a prime number is in the last six digits of **num_list**. `(5 points)`\n",
        "\n",
        "- If a prime number is in the last six digits of **num_list**, the method should return **true**\n",
        "\n",
        "- If a prime number is not in the last six digits of **num_list**, the method should return **false**\n",
        "\n",
        "    **Expected Output:**\n",
        "\n",
        "    hasPrime(num_list)\n",
        "\n",
        "    True"
      ]
    },
    {
      "cell_type": "code",
      "execution_count": 216,
      "metadata": {
        "colab": {
          "base_uri": "https://localhost:8080/"
        },
        "id": "GYwsQNz5FehT",
        "outputId": "d6b52ba4-f7a3-42d3-efe6-f8ff25088fbb"
      },
      "outputs": [
        {
          "output_type": "stream",
          "name": "stdout",
          "text": [
            "hasPrime(num_list)\n",
            "True\n"
          ]
        }
      ],
      "source": [
        "# Function to check if a number is prime\n",
        "def is_prime(n):\n",
        "    if n <= 1:\n",
        "        return False\n",
        "    if n <= 3:\n",
        "        return True\n",
        "    if n % 2 == 0 or n % 3 == 0:\n",
        "        return False\n",
        "    i = 5\n",
        "    while i * i <= n:\n",
        "        if n % i == 0 or n % (i + 2) == 0:\n",
        "            return False\n",
        "        i += 6\n",
        "    return True\n",
        "\n",
        "# Function to check if there is a prime number among the last six digits of num_list\n",
        "def hasPrime(num_list):\n",
        "    current_node = num_list.head\n",
        "    last_six_digits = []\n",
        "\n",
        "    # Traverse to the end of the list\n",
        "    while current_node:\n",
        "        last_six_digits.append(current_node.data)\n",
        "        current_node = current_node.next\n",
        "\n",
        "    # Check the last six digits for prime numbers\n",
        "    for digit in last_six_digits[-6:]:\n",
        "        if is_prime(digit):\n",
        "            return True\n",
        "\n",
        "    return False\n",
        "\n",
        "result = hasPrime(num_list)\n",
        "print(\"hasPrime(num_list)\")\n",
        "print(result)"
      ]
    },
    {
      "cell_type": "markdown",
      "metadata": {
        "id": "5Qb0BOiwFehT"
      },
      "source": [
        "3. Write a `removeZeroes()` function to remove all occurrences of zeroes in **num_list**. `(5 points)`\n",
        "\n",
        "- If a zero is in **num_list**, return **num_list**\n",
        "\n",
        "- If there are no zeroes in **num_list**, return **\"no zeros found\"**\n",
        "\n",
        "    **Expected Output:**\n",
        "\n",
        "    removeZeroes(num_list)\n",
        "\n",
        "    [2, 2, 1, 2, 3, 4, 5, 6]"
      ]
    },
    {
      "cell_type": "code",
      "execution_count": 217,
      "metadata": {
        "colab": {
          "base_uri": "https://localhost:8080/"
        },
        "id": "k1vAHUYuFehT",
        "outputId": "25bacadd-0274-4847-8d5a-b8b9f936f6a3"
      },
      "outputs": [
        {
          "output_type": "stream",
          "name": "stdout",
          "text": [
            "2 -> 2 -> 2 -> 1 -> 7 -> 3 -> 4 -> 9 -> None\n"
          ]
        }
      ],
      "source": [
        "# Function to remove all occurrences of 0 from num_list\n",
        "def removeZeroes(num_list):\n",
        "    current_node = num_list.head\n",
        "    prev_node = None\n",
        "    zero_found = False\n",
        "\n",
        "    # Traverse the list and remove 0\n",
        "    while current_node:\n",
        "        if current_node.data == 0:\n",
        "            zero_found = True\n",
        "            if prev_node is None:\n",
        "                num_list.head = current_node.next\n",
        "            else:\n",
        "                prev_node.next = current_node.next\n",
        "        else:\n",
        "            prev_node = current_node\n",
        "        current_node = current_node.next\n",
        "\n",
        "    if zero_found:\n",
        "        return num_list.traverse(num_list.head)\n",
        "    else:\n",
        "        return \"no zeros found\"\n",
        "\n",
        "# Example usage:\n",
        "result = removeZeroes(num_list)\n",
        "print(result)"
      ]
    },
    {
      "cell_type": "markdown",
      "metadata": {
        "id": "SKAlpglNFehT"
      },
      "source": [
        "4. Insert a dash symbol between the 4th and 5th digit in **num_list**. `(5 points)`\n",
        "\n",
        "    **Expected Output:**\n",
        "\n",
        "    print(num_list)\n",
        "\n",
        "    [2, 0, 2, 2, \"-\", 1, 2, 3, 4, 5, 6]"
      ]
    },
    {
      "cell_type": "code",
      "execution_count": 218,
      "metadata": {
        "colab": {
          "base_uri": "https://localhost:8080/"
        },
        "id": "vF7fimZ-FehT",
        "outputId": "dcaeaf85-a4f6-4c77-f1fb-beb07f932a76"
      },
      "outputs": [
        {
          "output_type": "stream",
          "name": "stdout",
          "text": [
            "num_list:\n",
            "2 -> 0 -> 2 -> 2 -> - -> 1 -> 0 -> 7 -> 3 -> 4 -> 9 -> None\n"
          ]
        }
      ],
      "source": [
        "\n",
        "# Create the num_list and add digits to it\n",
        "num_list = LinkedList()\n",
        "student_number = [2, 0, 2, 2, 1, 0, 7, 3, 4, 9]\n",
        "\n",
        "# Insert a dash between the 4th and 5th digit\n",
        "index = 0\n",
        "for digit in student_number:\n",
        "    new_node = Node(digit)\n",
        "    if index == 3:\n",
        "        dash_node = Node(\"-\")\n",
        "        new_node.next = dash_node\n",
        "    if num_list.head is None:\n",
        "        num_list.head = new_node\n",
        "    else:\n",
        "        current_node = num_list.head\n",
        "        while current_node.next:\n",
        "            current_node = current_node.next\n",
        "        current_node.next = new_node\n",
        "    index += 1\n",
        "\n",
        "# Print the elements of num_list\n",
        "print(\"num_list:\")\n",
        "print(num_list.traverse(num_list.head))"
      ]
    },
    {
      "cell_type": "markdown",
      "metadata": {
        "id": "mwS8c2dwm0zl"
      },
      "source": []
    },
    {
      "cell_type": "markdown",
      "metadata": {
        "id": "KkC-LgdxFehT"
      },
      "source": [
        "## Stack"
      ]
    },
    {
      "cell_type": "code",
      "execution_count": 156,
      "metadata": {
        "id": "UYTqB1u_FehU"
      },
      "outputs": [],
      "source": [
        "# Creating a stack\n",
        "def create_stack():\n",
        "    stack = []\n",
        "    return stack\n",
        "\n",
        "\n",
        "def print_stack(stack):\n",
        "\n",
        "    if (check_empty(stack)):\n",
        "        return \"stack is empty\"\n",
        "\n",
        "    # Create a copy of the stack and reverse the elements\n",
        "    tempStack = stack.copy()\n",
        "    tempStack.reverse()\n",
        "\n",
        "    # Print all elements using a loop\n",
        "    for i in tempStack:\n",
        "        print(i)\n",
        "\n",
        "    # Delete the copy to free up memory\n",
        "    del tempStack\n",
        "\n",
        "# Creating an empty stack\n",
        "\n",
        "\n",
        "def check_empty(stack):\n",
        "    return len(stack) == 0\n",
        "\n",
        "\n",
        "# Adding items into the stack\n",
        "def push(stack, item):\n",
        "    stack.append(item)\n",
        "    print(\"pushed item: \" + item)\n",
        "\n",
        "\n",
        "# Removing an element from the stack\n",
        "def pop(stack):\n",
        "    if (check_empty(stack)):\n",
        "        return \"stack is empty\"\n",
        "\n",
        "    return stack.pop()\n",
        "\n",
        "\n",
        "def peek(stack):\n",
        "\n",
        "    # Use negative indexing to display the last element of the list\n",
        "    print(stack[-1])"
      ]
    },
    {
      "cell_type": "markdown",
      "metadata": {
        "id": "wLAQchs8FehU"
      },
      "source": [
        "**Instructions** ❗️❗️\n",
        "\n",
        "Use the pre-defined stack class/functions to create a stack"
      ]
    },
    {
      "cell_type": "markdown",
      "metadata": {
        "id": "37cg9BoCFehU"
      },
      "source": [
        "1. Create two (2) stacks named **name_stack** and **num_stack** `(5 points)`\n",
        "\n",
        "- **name_stack** should contain all letters of your first name.\n",
        "- **num_stack** should contain all digits of your student number.\n",
        "\n",
        "    **Expected Output:**\n",
        "\n",
        "    print(name_stack)\n",
        "\n",
        "    ['E', 'L', 'I', 'Z', 'E', 'R']\n",
        "\n",
        "    print(num_stack)\n",
        "\n",
        "    [2,0,2,2,1,2,3,4,5,6]"
      ]
    },
    {
      "cell_type": "code",
      "execution_count": 209,
      "metadata": {
        "id": "HlUIUQzQFehU",
        "colab": {
          "base_uri": "https://localhost:8080/"
        },
        "outputId": "c58a1edf-365f-417f-9d9c-876ed0d673fc"
      },
      "outputs": [
        {
          "output_type": "stream",
          "name": "stdout",
          "text": [
            "pushed item: S\n",
            "pushed item: O\n",
            "pushed item: N\n",
            "pushed item: Y\n",
            "pushed item: A\n",
            "pushed item: 2\n",
            "pushed item: 0\n",
            "pushed item: 2\n",
            "pushed item: 2\n",
            "pushed item: 1\n",
            "pushed item: 0\n",
            "pushed item: 7\n",
            "pushed item: 3\n",
            "pushed item: 4\n",
            "pushed item: 9\n",
            "\n",
            "['S', 'O', 'N', 'Y', 'A']\n",
            "['2', '0', '2', '2', '1', '0', '7', '3', '4', '9']\n"
          ]
        }
      ],
      "source": [
        "# Create name_stack containing all letters of your first name manually\n",
        "name_stack = create_stack()\n",
        "push(name_stack, 'S')\n",
        "push(name_stack, 'O')\n",
        "push(name_stack, 'N')\n",
        "push(name_stack, 'Y')\n",
        "push(name_stack, 'A')\n",
        "\n",
        "# Create num_stack containing all digits of your student number manually\n",
        "num_stack = create_stack()\n",
        "push(num_stack, '2')\n",
        "push(num_stack, '0')\n",
        "push(num_stack, '2')\n",
        "push(num_stack, '2')\n",
        "push(num_stack, '1')\n",
        "push(num_stack, '0')\n",
        "push(num_stack, '7')\n",
        "push(num_stack, '3')\n",
        "push(num_stack, '4')\n",
        "push(num_stack, '9')\n",
        "\n",
        "# Print name_stack and num_stack\n",
        "print()\n",
        "print(name_stack)\n",
        "print(num_stack)"
      ]
    },
    {
      "cell_type": "markdown",
      "metadata": {
        "id": "8cySe9LXFehU"
      },
      "source": [
        "2. Create a stack named **my_stack** that follows the following format: `(5 points)`\n",
        "\n",
        "- The first element should be the **5th digit in your student number**\n",
        "- The succeeding elements should be the letters of your **first name**\n",
        "- The last element should be the **last digit of your student number**\n",
        "\n",
        "    **Expected Output:**\n",
        "\n",
        "    my_stack = [1, E, L, I, Z, E, R, 6]"
      ]
    },
    {
      "cell_type": "code",
      "execution_count": 210,
      "metadata": {
        "id": "bEnCoAhjFehU",
        "colab": {
          "base_uri": "https://localhost:8080/"
        },
        "outputId": "fef12c2c-705d-460c-ff7e-14515cec3e3a"
      },
      "outputs": [
        {
          "output_type": "stream",
          "name": "stdout",
          "text": [
            "pushed item: 1\n",
            "pushed item: S\n",
            "pushed item: O\n",
            "pushed item: N\n",
            "pushed item: Y\n",
            "pushed item: A\n",
            "pushed item: 9\n",
            "my_stack = ['1', 'S', 'O', 'N', 'Y', 'A', '9']\n"
          ]
        }
      ],
      "source": [
        "my_stack = create_stack()\n",
        "\n",
        "# Push the 5th digit of your student number\n",
        "push(my_stack, num_stack[4])\n",
        "\n",
        "# Push the elements from name_stack to my_stack while maintaining the order\n",
        "name_elements = []\n",
        "while not check_empty(name_stack):\n",
        "    name_elements.append(pop(name_stack))\n",
        "\n",
        "for item in reversed(name_elements):\n",
        "    push(my_stack, item)  # Push the elements in the original order\n",
        "\n",
        "# Push the last digit of your student number\n",
        "push(my_stack, num_stack[-1])\n",
        "\n",
        "print(\"my_stack =\", my_stack)"
      ]
    },
    {
      "cell_type": "markdown",
      "metadata": {
        "id": "8a8_KP5nFehU"
      },
      "source": [
        "3. Write a `verifyStack()` function that will take in `my_stack` and check if its format has been followed `(10 points)`\n",
        "\n",
        "- Return **True** if the format has been followed\n",
        "- Return **False** if the format was not followed\n",
        "- Verify the format by checking the contents of **my_stack** with **name_stack** and **num_stack**\n",
        "\n",
        "    **Expected Output:**\n",
        "\n",
        "    my_stack = [1, E, L, I, Z, E, R, 6]\n",
        "\n",
        "    verifyStack(my_stack)\n",
        "\n",
        "    True\n",
        "\n",
        "    my_stack = [1, S, L, I, Z, E, R, 7]\n",
        "\n",
        "    verifyStack(my_stack)\n",
        "\n",
        "    False"
      ]
    },
    {
      "cell_type": "code",
      "execution_count": 211,
      "metadata": {
        "id": "RdANSxD0FehU",
        "colab": {
          "base_uri": "https://localhost:8080/"
        },
        "outputId": "400b978d-c447-40c9-a62e-5d612f74f4ca"
      },
      "outputs": [
        {
          "output_type": "stream",
          "name": "stdout",
          "text": [
            "my_stack = ['1', 'S', 'O', 'N', 'Y', 'A', '9']\n",
            "True\n",
            "my_stack = ['1', 'P', 'O', 'N', 'Y', 'A', '7']\n",
            "False\n"
          ]
        }
      ],
      "source": [
        "name_stack = ['S', 'O', 'N', 'Y', 'A']\n",
        "def verifyStack(my_stack):\n",
        "   # Check if the first element of my_stack matches the fifth element of num_stack\n",
        "    if my_stack[0] == num_stack[4]:\n",
        "        # Convert the last element of my_stack to a string\n",
        "        my_stack[-1] = str(my_stack[-1])\n",
        "        # Check if the remaining elements of my_stack match name_stack\n",
        "        if my_stack[1:-1] == name_stack:\n",
        "            # Check if the last element of my_stack matches the last element of num_stack\n",
        "            if my_stack[-1] == num_stack[-1]:\n",
        "                return True\n",
        "\n",
        "    return False\n",
        "\n",
        "# Test cases\n",
        "my_stack = ['1', 'S', 'O', 'N', 'Y', 'A', '9']\n",
        "print(\"my_stack =\", my_stack)\n",
        "print(verifyStack(my_stack))\n",
        "\n",
        "my_stack = ['1', 'P', 'O', 'N', 'Y', 'A', '7']\n",
        "print(\"my_stack =\", my_stack)\n",
        "print(verifyStack(my_stack))"
      ]
    },
    {
      "cell_type": "markdown",
      "metadata": {
        "id": "UC5C64B2FehU"
      },
      "source": [
        "## Queue"
      ]
    },
    {
      "cell_type": "code",
      "execution_count": 213,
      "metadata": {
        "id": "NJJ0j0LHFehU"
      },
      "outputs": [],
      "source": [
        "class Queue:\n",
        "    def __init__(self):\n",
        "        self.queue = []\n",
        "\n",
        "    # Add an element\n",
        "    def enqueue(self, item):\n",
        "        self.queue.append(item)\n",
        "\n",
        "    # Remove an element\n",
        "    def dequeue(self):\n",
        "        if len(self.queue) < 1:\n",
        "            return None\n",
        "        return self.queue.pop(0)\n",
        "\n",
        "    # Display  the queue\n",
        "    def display(self):\n",
        "        print(self.queue)\n",
        "\n",
        "    def size(self):\n",
        "        return len(self.queue)\n",
        "\n",
        "    def peek(self):\n",
        "        return self.queue[0]"
      ]
    },
    {
      "cell_type": "markdown",
      "metadata": {
        "id": "80OekpbeFehV"
      },
      "source": [
        "**Instructions** ❗️❗️\n",
        "\n",
        "Use the pre-defined queue class/functions to create a Queue"
      ]
    },
    {
      "cell_type": "markdown",
      "metadata": {
        "id": "_Hf0OP5cFehV"
      },
      "source": [
        "1. Create a simple queue named **num_queue** `(5 points)`\n",
        "\n",
        "- **num_queue** should contain all digits of your student number.\n",
        "\n",
        "    **Expected Output:**\n",
        "\n",
        "    print(num_queue)\n",
        "\n",
        "    [2,0,2,2,1,2,3,4,5,6]"
      ]
    },
    {
      "cell_type": "code",
      "execution_count": 239,
      "metadata": {
        "id": "_mgmE4ArFehV",
        "colab": {
          "base_uri": "https://localhost:8080/"
        },
        "outputId": "6d1a0435-07ac-4462-c54b-0764dfce6083"
      },
      "outputs": [
        {
          "output_type": "stream",
          "name": "stdout",
          "text": [
            "num_queue:\n",
            "[2, 0, 2, 2, 1, 0, 7, 3, 4, 9]\n"
          ]
        }
      ],
      "source": [
        "# Create num_queue and add all digits of your student number\n",
        "num_queue = Queue()\n",
        "student_number = [2, 0, 2, 2, 1, 0, 7, 3, 4, 9]\n",
        "\n",
        "for digit in student_number:\n",
        "    num_queue.enqueue(digit)\n",
        "\n",
        "# Print num_queue\n",
        "print(\"num_queue:\")\n",
        "num_queue.display()"
      ]
    },
    {
      "cell_type": "markdown",
      "metadata": {
        "id": "1pHG8t6DFehV"
      },
      "source": [
        "2. Write a `getMax()` or `getMin()` function for **num_queue** `(5 points)`\n",
        "\n",
        "- If your student number ends with an odd number, create a `getMax()` function that will return the largest number in **num_queue**\n",
        "- If your student number ends with an even number, create a `getMin()` function that will return the lowest number in **num_queue**\n",
        "\n",
        "    **Expected Output for getMax():**\n",
        "\n",
        "    getMax(num_queue)\n",
        "\n",
        "    6\n",
        "\n",
        "    **Expected Output for getMin():**\n",
        "\n",
        "    getMin(num_queue)\n",
        "\n",
        "    0"
      ]
    },
    {
      "cell_type": "code",
      "execution_count": 240,
      "metadata": {
        "id": "itj2U610FehV",
        "colab": {
          "base_uri": "https://localhost:8080/"
        },
        "outputId": "092dca45-9dbe-4f9a-a40e-56c5a1031fcf"
      },
      "outputs": [
        {
          "output_type": "stream",
          "name": "stdout",
          "text": [
            "Max value in num_queue: 9\n"
          ]
        }
      ],
      "source": [
        "def getMax(num_queue):\n",
        "    if num_queue.size() == 0:\n",
        "        return None\n",
        "\n",
        "    max_num = num_queue.peek()\n",
        "    while num_queue.size() > 0:\n",
        "        current_num = num_queue.dequeue()\n",
        "        if current_num > max_num:\n",
        "            max_num = current_num\n",
        "\n",
        "    return max_num\n",
        "\n",
        "def getMin(num_queue):\n",
        "    if num_queue.size() == 0:\n",
        "        return None\n",
        "\n",
        "    min_num = num_queue.peek()\n",
        "    while num_queue.size() > 0:\n",
        "        current_num = num_queue.dequeue()\n",
        "        if current_num < min_num:\n",
        "            min_num = current_num\n",
        "\n",
        "    return min_num\n",
        "\n",
        "# Determine if the student number ends with an odd or even number\n",
        "student_number = [2, 0, 2, 2, 1, 0, 7, 3, 4, 9]\n",
        "last_digit = student_number[-1]\n",
        "\n",
        "if last_digit % 2 == 1:  # Odd last digit\n",
        "    result = getMax(num_queue)\n",
        "    print(f\"Max value in num_queue: {result}\")\n",
        "else:  # Even last digit\n",
        "    result = getMin(num_queue)\n",
        "    print(f\"Min value in num_queue: {result}\")"
      ]
    },
    {
      "cell_type": "markdown",
      "metadata": {
        "id": "YkgmP6GwFehV"
      },
      "source": [
        "3. Write a `getOdd()` or `getEven()` function for  **num_queue** `(5 points)`\n",
        "\n",
        "- If your student number ends with an **odd number**, create a `getOdd()` function that will return all odd numbers in **num_queue**\n",
        "- If your student number ends with an **even number**, create a `getEven()` function that will return all even numbers in **num_queue**\n",
        "\n",
        "    **Expected Output for getOdd():**\n",
        "\n",
        "    getOdd(num_queue)\n",
        "\n",
        "    [1, 3, 5]\n",
        "\n",
        "    **Expected Output for getEven():**\n",
        "\n",
        "    getEven(num_queue)\n",
        "\n",
        "    [0, 2, 4, 6]"
      ]
    },
    {
      "cell_type": "code",
      "execution_count": 243,
      "metadata": {
        "id": "2Bc7E1zNFehV",
        "colab": {
          "base_uri": "https://localhost:8080/"
        },
        "outputId": "06175c69-0798-4d4b-a6c6-1076ce73171c"
      },
      "outputs": [
        {
          "output_type": "stream",
          "name": "stdout",
          "text": [
            "Odd numbers in num_queue: [1, 7, 3, 9]\n"
          ]
        }
      ],
      "source": [
        "def getOdd(num_queue):\n",
        "    odd_numbers = []\n",
        "    while num_queue.size() > 0:\n",
        "        current_num = num_queue.dequeue()\n",
        "        if current_num % 2 == 1:\n",
        "            odd_numbers.append(current_num)\n",
        "    return odd_numbers\n",
        "\n",
        "def getEven(num_queue):\n",
        "    even_numbers = []\n",
        "    while num_queue.size() > 0:\n",
        "        current_num = num_queue.dequeue()\n",
        "        if current_num % 2 == 0:\n",
        "            even_numbers.append(current_num)\n",
        "    return even_numbers\n",
        "\n",
        "# Determine if the student number ends with an odd or even number\n",
        "student_number = [2, 0, 2, 2, 1, 0, 7, 3, 4, 9]\n",
        "last_digit = student_number[-1]\n",
        "\n",
        "num_queue = Queue()\n",
        "for digit in student_number:\n",
        "    num_queue.enqueue(digit)\n",
        "\n",
        "if last_digit % 2 == 1:  # Odd last digit\n",
        "    result = getOdd(num_queue)\n",
        "    print(f\"Odd numbers in num_queue: {result}\")\n",
        "else:  # Even last digit\n",
        "    result = getEven(num_queue)\n",
        "    print(f\"Even numbers in num_queue: {result}\")"
      ]
    },
    {
      "cell_type": "markdown",
      "metadata": {
        "id": "kuzWF5g4FehV"
      },
      "source": [
        "4. Write a `removeDup()` function that will remove all duplicates in **num_queue** `(5 points)`\n",
        "\n",
        "    **Expected Output:**\n",
        "\n",
        "    removeDup(num_queue)\n",
        "\n",
        "    [2,0,1,3,4,5,6]"
      ]
    },
    {
      "cell_type": "code",
      "execution_count": 245,
      "metadata": {
        "id": "I8LeQP8MFehY",
        "colab": {
          "base_uri": "https://localhost:8080/"
        },
        "outputId": "c2f1340b-8600-4870-900a-150700a721d8"
      },
      "outputs": [
        {
          "output_type": "stream",
          "name": "stdout",
          "text": [
            "removeDup(num_queue):\n",
            "[2, 0, 1, 7, 3, 4, 9]\n"
          ]
        }
      ],
      "source": [
        "def removeDup(num_queue):\n",
        "    unique_numbers = []\n",
        "    while num_queue.size() > 0:\n",
        "        current_num = num_queue.dequeue()\n",
        "        if current_num not in unique_numbers:\n",
        "            unique_numbers.append(current_num)\n",
        "    for num in unique_numbers:\n",
        "        num_queue.enqueue(num)\n",
        "\n",
        "# Create num_queue and add all digits of your student number\n",
        "num_queue = Queue()\n",
        "student_number = [2, 0, 2, 2, 1, 0, 7, 3, 4, 9]\n",
        "\n",
        "for digit in student_number:\n",
        "    num_queue.enqueue(digit)\n",
        "\n",
        "# Remove duplicates and print num_queue\n",
        "removeDup(num_queue)\n",
        "print(\"removeDup(num_queue):\")\n",
        "num_queue.display()"
      ]
    },
    {
      "cell_type": "markdown",
      "metadata": {
        "id": "LVfZTh8YFehZ"
      },
      "source": [
        "## Sort"
      ]
    },
    {
      "cell_type": "markdown",
      "metadata": {
        "id": "bm9lonfzFehZ"
      },
      "source": [
        "**Instructions** ❗️❗️\n",
        "\n",
        "Use the any sorting algoritms"
      ]
    },
    {
      "cell_type": "markdown",
      "metadata": {
        "id": "EJTlxhEdFehZ"
      },
      "source": [
        "1. Using any sorting algorithm, sort the **last 6 digits** of your student number in ascending order `(5 points)`\n",
        "\n",
        "    **Example:**\n",
        "\n",
        "    student_number = [2,0,2,2,6,2,5,1,3,4]\n",
        "\n",
        "    **Expected Output:**\n",
        "\n",
        "    print(student_number)\n",
        "\n",
        "    [2,0,2,2,1,2,3,4,5,6]\n"
      ]
    },
    {
      "cell_type": "code",
      "execution_count": 246,
      "metadata": {
        "id": "MkZKfveOFehZ",
        "colab": {
          "base_uri": "https://localhost:8080/"
        },
        "outputId": "d49601f3-895e-4a0d-c0e7-1f5b76faf9c3"
      },
      "outputs": [
        {
          "output_type": "stream",
          "name": "stdout",
          "text": [
            "Sorted student_number:\n",
            "[2, 0, 2, 2, 0, 1, 3, 4, 7, 9]\n"
          ]
        }
      ],
      "source": [
        "student_number = [2, 0, 2, 2, 1, 0, 7, 3, 4, 9]\n",
        "\n",
        "# Sort the last 6 digits in ascending order\n",
        "student_number[-6:] = sorted(student_number[-6:])\n",
        "\n",
        "# Print the sorted student number\n",
        "print(\"Sorted student_number:\")\n",
        "print(student_number)"
      ]
    },
    {
      "cell_type": "markdown",
      "metadata": {
        "id": "sC2JZRZMFehZ"
      },
      "source": [
        "2. Using your student_number, separately sort the even numbers in **increasing order** and the odd numbers in **decreasing order** `(15 points)`\n",
        "\n",
        "    **Example:**\n",
        "\n",
        "    student_number = [2,0,2,2,1,2,3,4,5,6]\n",
        "\n",
        "    **Expected Output:**\n",
        "\n",
        "    print(student_number)\n",
        "\n",
        "    [0,2,2,2,2,4,6,5,3,1]"
      ]
    },
    {
      "cell_type": "code",
      "execution_count": 247,
      "metadata": {
        "id": "hWOh_ohcFehZ",
        "colab": {
          "base_uri": "https://localhost:8080/"
        },
        "outputId": "b829d198-b183-40db-cf79-e863f3728d77"
      },
      "outputs": [
        {
          "output_type": "stream",
          "name": "stdout",
          "text": [
            "Sorted student_number:\n",
            "[0, 0, 2, 2, 2, 4, 9, 7, 3, 1]\n"
          ]
        }
      ],
      "source": [
        "student_number = [2, 0, 2, 2, 1, 0, 7, 3, 4, 9]\n",
        "\n",
        "# Separate even and odd numbers\n",
        "even_numbers = [x for x in student_number if x % 2 == 0]\n",
        "odd_numbers = [x for x in student_number if x % 2 != 0]\n",
        "\n",
        "# Sort even numbers in increasing order and odd numbers in decreasing order\n",
        "even_numbers.sort()\n",
        "odd_numbers.sort(reverse=True)\n",
        "\n",
        "# Combine the sorted even and odd numbers\n",
        "sorted_student_number = even_numbers + odd_numbers\n",
        "\n",
        "# Print the sorted student number\n",
        "print(\"Sorted student_number:\")\n",
        "print(sorted_student_number)"
      ]
    }
  ],
  "metadata": {
    "colab": {
      "provenance": [],
      "include_colab_link": true
    },
    "kernelspec": {
      "display_name": "Python 3",
      "language": "python",
      "name": "python3"
    },
    "language_info": {
      "codemirror_mode": {
        "name": "ipython",
        "version": 3
      },
      "file_extension": ".py",
      "mimetype": "text/x-python",
      "name": "python",
      "nbconvert_exporter": "python",
      "pygments_lexer": "ipython3",
      "version": "3.9.13"
    }
  },
  "nbformat": 4,
  "nbformat_minor": 0
}